{
 "cells": [
  {
   "cell_type": "markdown",
   "id": "3b566454",
   "metadata": {
    "slideshow": {
     "slide_type": "slide"
    }
   },
   "source": [
    "# Example Usage of Movie Recommendation Package\n",
    "This notebook demonstrates the usage of the movie recommendation package."
   ]
  },
  {
   "cell_type": "markdown",
   "id": "698ea31f",
   "metadata": {
    "slideshow": {
     "slide_type": "slide"
    }
   },
   "source": [
    "\n",
    "## Introduction\n",
    "This package is designed to provide recommendations for movies. It includes data generation, SQL connections, a recommendation algorithm, and a FastAPI integration. The following sections will guide you through the usage of each component.\n"
   ]
  },
  {
   "cell_type": "markdown",
   "id": "172dcbf5",
   "metadata": {
    "slideshow": {
     "slide_type": "slide"
    }
   },
   "source": [
    "\n",
    "## Installation\n",
    "To install the package, run the following command:\n",
    "```python\n",
    "!pip install movie_recommend\n",
    "```\n"
   ]
  },
  {
   "cell_type": "markdown",
   "id": "7db06af1",
   "metadata": {
    "slideshow": {
     "slide_type": "slide"
    }
   },
   "source": [
    "\n",
    "## Data Generation\n",
    "```python\n",
    "\n",
    "This section shows how to generate sample data using the package.\n",
    "from etl.data_preperation.data_generator import .\n",
    "\n",
    "NUMBER_OF_MOVIES = 450\n",
    "NUMBER_OF_LINKS = 270\n",
    "NUMBER_OF_RATINGS = 260\n",
    "NUMBER_OF_TAGS = 750\n",
    "NUMBER_OF_CREDITS = 300\n",
    "NUMBER_OF_USERS = 200\n",
    "```\n"
   ]
  },
  {
   "cell_type": "markdown",
   "id": "5e080511",
   "metadata": {
    "slideshow": {
     "slide_type": "subslide"
    }
   },
   "source": [
    "## Generating Movie MetaData\n",
    "\n",
    "from etl.data_preperation.data_generator import .\n",
    "\n",
    "```python\n",
    "movie_data = [generate_movie_metadata(movie_id) for movie_id in range(NUMBER_OF_MOVIES)]\n",
    "movie_df = pd.DataFrame(movie_data)\n",
    "movie_df.to_csv('movie_metadata.csv', index=False)\n",
    "```"
   ]
  },
  {
   "cell_type": "markdown",
   "id": "aafaa158",
   "metadata": {
    "slideshow": {
     "slide_type": "subslide"
    }
   },
   "source": [
    "## Generating Ratings Data\n",
    "\n",
    "```python\n",
    "ratings_data = [generate_ratings(user_id, movie_id) for user_id in range(NUMBER_OF_RATINGS) for movie_id in range(NUMBER_OF_MOVIES)]\n",
    "ratings_df = pd.DataFrame(ratings_data)\n",
    "ratings_df.to_csv('ratings.csv', index=False)\n",
    "```\n"
   ]
  },
  {
   "cell_type": "markdown",
   "id": "945b7fcc",
   "metadata": {
    "slideshow": {
     "slide_type": "subslide"
    }
   },
   "source": [
    "## Generating Credits Data\n",
    "\n",
    "```python\n",
    "credits = [generate_credits(movie_id) for movie_id in range(NUMBER_OF_CREDITS )]\n",
    "pd.DataFrame(credits).head()\n",
    "credits_df = pd.DataFrame(credits)\n",
    "credits_df.to_csv('credits_data.csv', index=False)\n",
    "```"
   ]
  },
  {
   "cell_type": "markdown",
   "id": "0480dcfb",
   "metadata": {
    "slideshow": {
     "slide_type": "subslide"
    }
   },
   "source": [
    "\n",
    "## Generating Keywords Data\n",
    "\n",
    "```python\n",
    "keywords = [generate_keywords(movie_id) for movie_id in range(NUMBER_OF_MOVIES)]\n",
    "keywords_df = pd.DataFrame(keywords)\n",
    "keywords_df_df = pd.DataFrame(keywords)\n",
    "keywords_df.to_csv('keywords.csv', index=False)\n",
    "```"
   ]
  },
  {
   "cell_type": "markdown",
   "id": "5cab2eb0",
   "metadata": {
    "slideshow": {
     "slide_type": "subslide"
    }
   },
   "source": [
    "## Generating User Data\n",
    "\n",
    "```python\n",
    "\n",
    "users = [generate_user(user_id) for user_id in range(1, NUMBER_OF_USERS + 1)]\n",
    "users_df = pd.DataFrame(users)\n",
    "users_df.to_csv('users.csv', index=False)\n",
    "```\n"
   ]
  },
  {
   "cell_type": "markdown",
   "id": "211a7557",
   "metadata": {
    "slideshow": {
     "slide_type": "slide"
    }
   },
   "source": [
    "# Movie Recommendation System Schema Setup\n",
    "\n",
    "This code demonstrates the setup and schema definition for a movie recommendation system using SQLAlchemy, a Python SQL toolkit and Object-Relational Mapping (ORM) library.\n",
    "\n",
    "```python\n",
    "from etl.data_preperation.schema import *\n",
    "\n",
    "```\n",
    "This simple line will create schema for you movie dataset"
   ]
  },
  {
   "cell_type": "markdown",
   "id": "766cf6af",
   "metadata": {
    "slideshow": {
     "slide_type": "slide"
    }
   },
   "source": [
    "## SQL Connection\n",
    "\n",
    "Establish a SQL connection and execute a query to retrieve movie data.\n",
    "# Create SQL handlers for each table\n",
    "\n",
    "\n",
    "```python\n",
    "Inst_movie_metadata = SqlHandler('temp', 'MovieMetadata')\n",
    "Inst_user = SqlHandler('temp', 'User')\n",
    "Inst_ratings_small = SqlHandler('temp', 'Ratings_small')\n",
    "Inst_credits = SqlHandler('temp', 'Credits')\n",
    "Inst_keywords = SqlHandler('temp', 'plot_keywords')\n",
    "\n",
    "```\n"
   ]
  },
  {
   "cell_type": "markdown",
   "id": "1c574ba2",
   "metadata": {
    "slideshow": {
     "slide_type": "subslide"
    }
   },
   "source": [
    "\n",
    "\n",
    "# Load data from respective CSV files\n",
    "```python\n",
    "movie_data = pd.read_csv('movie_metadata.csv')\n",
    "user_data = pd.read_csv('users.csv')\n",
    "ratings_data = pd.read_csv('ratings.csv')\n",
    "credits_data = pd.read_csv('credits_data.csv')\n",
    "keywords_data = pd.read_csv('keywords.csv')\n",
    "```"
   ]
  },
  {
   "cell_type": "markdown",
   "id": "7af0217f",
   "metadata": {
    "slideshow": {
     "slide_type": "subslide"
    }
   },
   "source": [
    "\n",
    "# Insert data into respective SQL tables\n",
    "\n",
    "```python\n",
    "Inst_movie_metadata.insert_many(movie_data)\n",
    "Inst_user.insert_many(user_data)\n",
    "Inst_ratings_small.insert_many(ratings_data)\n",
    "Inst_credits.insert_many(credits_data)\n",
    "Inst_keywords.insert_many(keywords_data)\n",
    "\n",
    "```"
   ]
  },
  {
   "cell_type": "markdown",
   "id": "87d642a9",
   "metadata": {
    "slideshow": {
     "slide_type": "subslide"
    }
   },
   "source": [
    "\n",
    "# Close connections for each table\n",
    "\n",
    "```python\n",
    "\n",
    "Inst_movie_metadata.close_cnxn()\n",
    "Inst_user.close_cnxn()\n",
    "Inst_ratings_small.close_cnxn()\n",
    "Inst_credits.close_cnxn()\n",
    "Inst_keywords.close_cnxn()\n",
    "```"
   ]
  },
  {
   "cell_type": "markdown",
   "id": "f2427617",
   "metadata": {
    "slideshow": {
     "slide_type": "slide"
    }
   },
   "source": [
    "\n",
    "## Recommendation Algorithm\n",
    "Use the recommendation algorithm on the generated data.\n",
    "```python\n",
    "from etl.movie_recommender.check import get_recommendations_for_movie\n",
    "\n",
    "test_movie_title = \"Organized mission-critical core\"\n",
    "recommendations = get_recommendations_for_movie(test_movie_title)\n",
    "\n",
    "# Print recommendations\n",
    "print(f\"Recommendations for '{test_movie_title}':\")\n",
    "for recommendation in recommendations:\n",
    "    print(recommendation)\n",
    "\n",
    "```\n"
   ]
  },
  {
   "cell_type": "markdown",
   "id": "1c1ddebf",
   "metadata": {
    "slideshow": {
     "slide_type": "slide"
    }
   },
   "source": [
    "\n",
    "## FastAPI Integration\n",
    "Example of integrating the recommendation algorithm with FastAPI.\n",
    "```python\n",
    "import uvicorn\n",
    "import os\n",
    "import threading\n",
    "import uvicorn\n",
    "from etl.api.api import app\n",
    "\n",
    "\n",
    "def run_server():\n",
    "    uvicorn.run(app, host=\"127.0.0.1\", port=5001, log_level=\"info\")\n",
    "\n",
    "# Run the server in a separate thread\n",
    "server_thread = threading.Thread(target=run_server)\n",
    "server_thread.start()\n",
    "\n",
    "```\n"
   ]
  },
  {
   "cell_type": "markdown",
   "id": "4aa1f831",
   "metadata": {
    "slideshow": {
     "slide_type": "slide"
    }
   },
   "source": [
    "\n",
    "## Conclusion\n",
    "This notebook provides a basic overview of using the movie recommendation package. For more detailed documentation, refer to MKdocs documentation.\n"
   ]
  }
 ],
 "metadata": {
  "celltoolbar": "Slideshow",
  "kernelspec": {
   "display_name": "Python 3 (ipykernel)",
   "language": "python",
   "name": "python3"
  },
  "language_info": {
   "codemirror_mode": {
    "name": "ipython",
    "version": 3
   },
   "file_extension": ".py",
   "mimetype": "text/x-python",
   "name": "python",
   "nbconvert_exporter": "python",
   "pygments_lexer": "ipython3",
   "version": "3.10.9"
  }
 },
 "nbformat": 4,
 "nbformat_minor": 5
}
