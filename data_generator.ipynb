{
 "cells": [
  {
   "cell_type": "markdown",
   "metadata": {},
   "source": [
    "## Loading modules and packages"
   ]
  },
  {
   "cell_type": "code",
   "execution_count": 1,
   "metadata": {},
   "outputs": [],
   "source": [
    "from etl.data_preperation.data_generator import generate_movie_metadata\n",
    "from etl.data_preperation.data_generator import generate_user\n",
    "from etl.data_preperation.data_generator import generate_ratings\n",
    "from etl.data_preperation.data_generator import generate_credits\n",
    "from etl.data_preperation.data_generator import generate_keywords\n",
    "\n",
    "import pandas as pd\n",
    "import random"
   ]
  },
  {
   "cell_type": "markdown",
   "metadata": {},
   "source": [
    "## Declaring Constants"
   ]
  },
  {
   "cell_type": "code",
   "execution_count": 2,
   "metadata": {},
   "outputs": [],
   "source": [
    "NUMBER_OF_MOVIES = 450\n",
    "NUMBER_OF_LINKS = 270\n",
    "NUMBER_OF_RATINGS = 260\n",
    "NUMBER_OF_TAGS = 750\n",
    "NUMBER_OF_CREDITS = 300\n",
    "NUMBER_OF_USERS = 200\n"
   ]
  },
  {
   "cell_type": "markdown",
   "metadata": {},
   "source": [
    "## Generating Movie MetaData"
   ]
  },
  {
   "cell_type": "code",
   "execution_count": 8,
   "metadata": {},
   "outputs": [],
   "source": [
    "movie_data = [generate_movie_metadata(movie_id) for movie_id in range(NUMBER_OF_MOVIES)]\n",
    "movie_df = pd.DataFrame(movie_data)\n",
    "movie_df.to_csv('movie_metadata.csv', index=False)\n"
   ]
  },
  {
   "cell_type": "markdown",
   "metadata": {},
   "source": [
    "## Generating Ratings Data"
   ]
  },
  {
   "cell_type": "code",
   "execution_count": 11,
   "metadata": {},
   "outputs": [],
   "source": [
    "ratings_data = [generate_ratings(user_id, movie_id) for user_id in range(NUMBER_OF_RATINGS) for movie_id in range(NUMBER_OF_MOVIES)]\n",
    "ratings_df = pd.DataFrame(ratings_data)\n",
    "ratings_df.to_csv('ratings.csv', index=False)"
   ]
  },
  {
   "cell_type": "markdown",
   "metadata": {},
   "source": [
    "## Generating Credits Data"
   ]
  },
  {
   "cell_type": "code",
   "execution_count": 12,
   "metadata": {},
   "outputs": [],
   "source": [
    "credits = [generate_credits(movie_id) for movie_id in range(NUMBER_OF_CREDITS )]\n",
    "pd.DataFrame(credits).head()\n",
    "credits_df = pd.DataFrame(credits)\n",
    "credits_df.to_csv('credits_data.csv', index=False)"
   ]
  },
  {
   "cell_type": "markdown",
   "metadata": {},
   "source": [
    "## Generating Keywords Data"
   ]
  },
  {
   "cell_type": "code",
   "execution_count": 3,
   "metadata": {},
   "outputs": [],
   "source": [
    "keywords = [generate_keywords(movie_id) for movie_id in range(NUMBER_OF_MOVIES)]\n",
    "keywords_df = pd.DataFrame(keywords)\n",
    "keywords_df_df = pd.DataFrame(keywords)\n",
    "keywords_df.to_csv('keywords.csv', index=False)"
   ]
  },
  {
   "cell_type": "markdown",
   "metadata": {},
   "source": [
    "## Generating User Data"
   ]
  },
  {
   "cell_type": "code",
   "execution_count": 4,
   "metadata": {},
   "outputs": [],
   "source": [
    "users = [generate_user(user_id) for user_id in range(1, NUMBER_OF_USERS + 1)]\n",
    "users_df = pd.DataFrame(users)\n",
    "\n",
    "# Save user data to a CSV file\n",
    "users_df.to_csv('users.csv', index=False)"
   ]
  },
  {
   "cell_type": "code",
   "execution_count": null,
   "metadata": {},
   "outputs": [],
   "source": []
  },
  {
   "cell_type": "markdown",
   "metadata": {},
   "source": []
  }
 ],
 "metadata": {
  "kernelspec": {
   "display_name": "venv",
   "language": "python",
   "name": "python3"
  },
  "language_info": {
   "codemirror_mode": {
    "name": "ipython",
    "version": 3
   },
   "file_extension": ".py",
   "mimetype": "text/x-python",
   "name": "python",
   "nbconvert_exporter": "python",
   "pygments_lexer": "ipython3",
   "version": "3.10.9"
  }
 },
 "nbformat": 4,
 "nbformat_minor": 2
}
